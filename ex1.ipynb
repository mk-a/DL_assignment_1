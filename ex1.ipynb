{
 "cells": [
  {
   "cell_type": "code",
   "execution_count": 235,
   "metadata": {},
   "outputs": [],
   "source": [
    "import numpy as np\n",
    "import pandas as pd\n",
    "import mlp\n",
    "import sklearn.model_selection\n",
    "import importlib\n",
    "import time\n",
    "import pickle"
   ]
  },
  {
   "cell_type": "code",
   "execution_count": 261,
   "metadata": {},
   "outputs": [],
   "source": [
    "# data = pd.read_csv(\"../../mnist_train.csv\")\n",
    "# data2 = pd.read_csv(\"../../mnist_test.csv\")"
   ]
  },
  {
   "cell_type": "code",
   "execution_count": 275,
   "metadata": {},
   "outputs": [
    {
     "data": {
      "text/plain": [
       "<module 'mlp' from '/home/adrien/Documents/IFT6135/assigment1/practical/mlp.py'>"
      ]
     },
     "execution_count": 275,
     "metadata": {},
     "output_type": "execute_result"
    }
   ],
   "source": [
    "importlib.reload(mlp)"
   ]
  },
  {
   "cell_type": "code",
   "execution_count": 262,
   "metadata": {},
   "outputs": [
    {
     "data": {
      "text/plain": [
       "(10000, 785)"
      ]
     },
     "execution_count": 262,
     "metadata": {},
     "output_type": "execute_result"
    }
   ],
   "source": [
    "data.values.shape"
   ]
  },
  {
   "cell_type": "code",
   "execution_count": 264,
   "metadata": {},
   "outputs": [],
   "source": [
    "X = data.values[:,1:]/255\n",
    "Y = data.values[:,0]\n",
    "X_test = data2.values[:, 1:]/255\n",
    "Y_test = data2.values[:, 0]\n",
    "X_train, X_valid, Y_train, Y_valid = sklearn.model_selection.train_test_split( X, Y, test_size=0.2, random_state=42)"
   ]
  },
  {
   "cell_type": "code",
   "execution_count": 278,
   "metadata": {},
   "outputs": [
    {
     "name": "stdout",
     "output_type": "stream",
     "text": [
      "Input dimension 784\tLayer 1 dimension 500\tLayer 2 dimension 500\tOutput dimension 10\t Initilization method glorot\tActivation function sigmoid\n",
      "Total number of parameters : 648010\n"
     ]
    }
   ],
   "source": [
    "model1 = mlp.MLP_2L(784, 500, 500, 10, init=\"glorot\", activation=\"sigmoid\", l1=0.001, l2=0.001)  "
   ]
  },
  {
   "cell_type": "code",
   "execution_count": 280,
   "metadata": {},
   "outputs": [
    {
     "name": "stdout",
     "output_type": "stream",
     "text": [
      "Epoch 1/3\tExamples 1000/1000\tAccuracy 0.270\tEpoch time 40.39s\tTraining time 40.39s\n",
      "Epoch 2/3\tExamples 1000/1000\tAccuracy 0.445\tEpoch time 31.67s\tTraining time 72.06s\n",
      "Epoch 3/3\tExamples 1000/1000\tAccuracy 0.515\tEpoch time 24.02s\tTraining time 96.08s\n",
      "Total training time 96.08s\n"
     ]
    }
   ],
   "source": [
    "model1.train(X_train[:1000], Y_train[:1000], 3, 1, 1e-02)"
   ]
  },
  {
   "cell_type": "code",
   "execution_count": 257,
   "metadata": {},
   "outputs": [],
   "source": [
    "model1.save(\"model1.txt\")"
   ]
  },
  {
   "cell_type": "code",
   "execution_count": 258,
   "metadata": {},
   "outputs": [
    {
     "name": "stdout",
     "output_type": "stream",
     "text": [
      "Input dimension 784\tLayer 1 dimension 500\tLayer 2 dimension 500\tOutput dimension 10\t Initilization method load\tActivation function sigmoid\n",
      "Total number of parameters : 648010\n"
     ]
    }
   ],
   "source": [
    "model2 = mlp.MLP_2L.load_model(\"model1.txt\")"
   ]
  },
  {
   "cell_type": "code",
   "execution_count": 259,
   "metadata": {},
   "outputs": [
    {
     "data": {
      "text/plain": [
       "0"
      ]
     },
     "execution_count": 259,
     "metadata": {},
     "output_type": "execute_result"
    }
   ],
   "source": [
    "np.sum((model1.predict(X_test) != model2.predict(X_test)).astype(int))"
   ]
  },
  {
   "cell_type": "code",
   "execution_count": 242,
   "metadata": {},
   "outputs": [
    {
     "data": {
      "text/plain": [
       "array([8, 8, 8, ..., 8, 8, 8])"
      ]
     },
     "execution_count": 242,
     "metadata": {},
     "output_type": "execute_result"
    }
   ],
   "source": [
    "model2.predict(X_test)"
   ]
  },
  {
   "cell_type": "code",
   "execution_count": 247,
   "metadata": {},
   "outputs": [
    {
     "data": {
      "text/plain": [
       "784"
      ]
     },
     "execution_count": 247,
     "metadata": {},
     "output_type": "execute_result"
    }
   ],
   "source": [
    "model2.w1.shape[1]"
   ]
  },
  {
   "cell_type": "code",
   "execution_count": null,
   "metadata": {},
   "outputs": [],
   "source": []
  }
 ],
 "metadata": {
  "kernelspec": {
   "display_name": "Python 3",
   "language": "python",
   "name": "python3"
  },
  "language_info": {
   "codemirror_mode": {
    "name": "ipython",
    "version": 3
   },
   "file_extension": ".py",
   "mimetype": "text/x-python",
   "name": "python",
   "nbconvert_exporter": "python",
   "pygments_lexer": "ipython3",
   "version": "3.7.1"
  }
 },
 "nbformat": 4,
 "nbformat_minor": 2
}
