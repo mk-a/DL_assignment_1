{
 "cells": [
  {
   "cell_type": "code",
   "execution_count": 1,
   "metadata": {},
   "outputs": [],
   "source": [
    "import numpy as np\n",
    "import pandas as pd\n",
    "import mlp\n",
    "import sklearn.model_selection\n",
    "import importlib\n",
    "import time"
   ]
  },
  {
   "cell_type": "code",
   "execution_count": 11,
   "metadata": {},
   "outputs": [],
   "source": [
    "data = pd.read_csv(\"../../mnist_train.csv\")"
   ]
  },
  {
   "cell_type": "code",
   "execution_count": 123,
   "metadata": {},
   "outputs": [
    {
     "data": {
      "text/plain": [
       "<module 'mlp' from '/home/adrien/Documents/IFT6135/assigment1/practical/mlp.py'>"
      ]
     },
     "execution_count": 123,
     "metadata": {},
     "output_type": "execute_result"
    }
   ],
   "source": [
    "importlib.reload(mlp)"
   ]
  },
  {
   "cell_type": "code",
   "execution_count": 4,
   "metadata": {},
   "outputs": [
    {
     "data": {
      "text/plain": [
       "(60000, 785)"
      ]
     },
     "execution_count": 4,
     "metadata": {},
     "output_type": "execute_result"
    }
   ],
   "source": [
    "data.values.shape"
   ]
  },
  {
   "cell_type": "code",
   "execution_count": 86,
   "metadata": {},
   "outputs": [],
   "source": [
    "X = data.values[:100,1:]\n",
    "Y = data.values[:100,0]"
   ]
  },
  {
   "cell_type": "code",
   "execution_count": 75,
   "metadata": {},
   "outputs": [],
   "source": [
    "X_train, X_test, Y_train, Y_test = \\\n",
    "            sklearn.model_selection.train_test_split( X, Y, \\\n",
    "                            test_size=0.33, random_state=42)"
   ]
  },
  {
   "cell_type": "code",
   "execution_count": 124,
   "metadata": {},
   "outputs": [
    {
     "name": "stdout",
     "output_type": "stream",
     "text": [
      "Input dimension 784\tLayer 1 dimension 500\tLayer 2 dimension 500\tOutput dimension 10\n",
      "Total number of parameters : 648010\n"
     ]
    }
   ],
   "source": [
    "model1 = mlp.MLP(784, 500, 500, 10, init=\"normal\", activation=\"sigmoid\")"
   ]
  },
  {
   "cell_type": "code",
   "execution_count": 125,
   "metadata": {},
   "outputs": [
    {
     "name": "stdout",
     "output_type": "stream",
     "text": [
      "Epoch 1/5\tExamples 670/670\tAccuracy 0.113\tEpoch time 11.88s\tTraining time 11.88s\n",
      "Epoch 2/5\tExamples 670/670\tAccuracy 0.116\tEpoch time 11.87s\tTraining time 23.75s\n",
      "Epoch 3/5\tExamples 670/670\tAccuracy 0.116\tEpoch time 7.64s\tTraining time 31.39s\n",
      "Epoch 4/5\tExamples 670/670\tAccuracy 0.116\tEpoch time 7.01s\tTraining time 38.40s\n",
      "Epoch 5/5\tExamples 670/670\tAccuracy 0.116\tEpoch time 7.67s\tTraining time 46.07s\n",
      "Total training time 46.07s\n"
     ]
    }
   ],
   "source": [
    "model1.train(X_train, Y_train, 5, 1, 1e-07)"
   ]
  },
  {
   "cell_type": "code",
   "execution_count": 110,
   "metadata": {},
   "outputs": [
    {
     "data": {
      "text/plain": [
       "0.07575757575757576"
      ]
     },
     "execution_count": 110,
     "metadata": {},
     "output_type": "execute_result"
    }
   ],
   "source": [
    "model1.evaluate(X_test, Y_test)"
   ]
  },
  {
   "cell_type": "code",
   "execution_count": 105,
   "metadata": {
    "scrolled": true
   },
   "outputs": [
    {
     "data": {
      "text/plain": [
       "array([7, 6, 3, 3, 5, 5, 4, 6, 0, 8, 2, 5, 9, 8, 1, 5, 1, 0, 6, 9, 3, 5,\n",
       "       3, 0, 3, 4, 5, 9, 0, 8, 9, 7, 3, 1, 4, 7, 7, 7, 6, 6, 0, 8, 7, 8,\n",
       "       1, 0, 7, 6, 5, 2, 6, 5, 8, 0, 2, 8, 7, 5, 4, 2, 7, 8, 2, 0, 1, 0,\n",
       "       3, 4, 5, 0, 1, 7, 8, 4, 1, 5, 4, 4, 0, 1, 5, 1, 0, 4, 5, 1, 4, 5,\n",
       "       7, 1, 6, 3, 7, 2, 3, 6, 6, 1, 1, 4, 9, 2, 4, 8, 5, 3, 5, 1, 6, 9,\n",
       "       7, 1, 4, 5, 8, 0, 0, 9, 4, 2, 4, 2, 8, 4, 1, 7, 8, 0, 2, 4, 3, 1,\n",
       "       6, 1, 2, 1, 0, 5, 9, 2, 9, 4, 7, 4, 4, 4, 5, 4, 4, 1, 1, 8, 5, 5,\n",
       "       1, 9, 7, 4, 9, 7, 8, 6, 5, 5, 7, 2, 1, 1, 9, 4, 4, 1, 6, 7, 9, 5,\n",
       "       2, 9, 5, 5, 4, 1, 5, 7, 7, 8, 4, 3, 3, 4, 3, 0, 3, 4, 6, 2, 1, 3,\n",
       "       5, 6, 1, 0, 5, 5, 2, 4, 9, 0, 7, 0, 9, 4, 5, 9, 2, 0, 5, 0, 2, 6,\n",
       "       9, 0, 2, 9, 3, 5, 4, 7, 9, 7, 9, 6, 4, 8, 7, 1, 3, 9, 3, 3, 3, 1,\n",
       "       7, 3, 7, 0, 4, 1, 0, 5, 0, 5, 1, 0, 3, 5, 5, 5, 4, 5, 8, 4, 0, 4,\n",
       "       3, 7, 5, 8, 4, 0, 1, 4, 3, 3, 2, 3, 2, 4, 4, 4, 7, 7, 6, 0, 7, 1,\n",
       "       0, 6, 0, 9, 3, 3, 4, 2, 3, 7, 5, 7, 9, 2, 0, 5, 0, 4, 4, 5, 3, 7,\n",
       "       5, 1, 7, 0, 0, 0, 9, 9, 4, 4, 9, 6, 4, 9, 7, 1, 7, 3, 5, 7, 9, 7,\n",
       "       1, 2, 1, 9, 3, 9, 2, 7, 6, 9, 7, 7, 1, 6, 0, 6, 6, 5, 4, 3, 6, 3,\n",
       "       6, 1, 2, 6, 3, 7, 2, 0, 4, 8, 6, 2, 1, 6, 0, 4, 6, 1, 5, 7, 0, 9,\n",
       "       5, 6, 6, 8, 1, 2, 6, 3, 8, 5, 2, 6, 7, 7, 7, 2, 6, 8, 1, 3, 0, 2,\n",
       "       2, 9, 5, 4, 0, 1, 9, 1, 4, 1, 9, 6, 1, 4, 3, 2, 6, 9, 5, 1, 5, 3,\n",
       "       9, 1, 7, 5, 3, 8, 3, 3, 3, 7, 9, 5, 1, 1, 5, 0, 6, 1, 4, 7, 4, 2,\n",
       "       6, 1, 2, 1, 2, 7, 0, 1, 7, 4, 6, 7, 9, 5, 7, 5, 3, 2, 2, 2, 7, 0,\n",
       "       4, 7, 1, 2, 4, 7, 3, 4, 1, 5, 0, 7, 8, 3, 1, 2, 0, 5, 3, 9, 7, 3,\n",
       "       3, 4, 6, 0, 0, 2, 1, 4, 8, 4, 9, 1, 7, 0, 3, 6, 1, 8, 4, 4, 9, 5,\n",
       "       2, 9, 0, 1, 2, 8, 7, 3, 4, 9, 1, 1, 8, 5, 6, 1, 7, 1, 4, 3, 7, 7,\n",
       "       0, 9, 2, 7, 5, 1, 5, 6, 6, 5, 6, 9, 4, 1, 8, 9, 1, 7, 4, 9, 1, 0,\n",
       "       1, 1, 4, 2, 9, 0, 8, 7, 3, 7, 5, 5, 7, 8, 6, 1, 5, 4, 1, 6, 5, 2,\n",
       "       1, 1, 2, 2, 4, 6, 0, 2, 1, 5, 1, 6, 9, 0, 4, 1, 3, 0, 1, 0, 5, 1,\n",
       "       0, 1, 1, 7, 2, 4, 4, 1, 0, 6, 6, 1, 9, 7, 5, 4, 3, 3, 1, 0, 1, 8,\n",
       "       5, 8, 7, 9, 3, 7, 7, 2, 4, 5, 1, 6, 1, 4, 5, 7, 3, 1, 2, 0, 9, 3,\n",
       "       5, 1, 6, 5, 2, 5, 4, 1, 8, 8, 2, 4, 3, 4, 1, 1, 4, 9, 0, 3, 7, 1,\n",
       "       0, 5, 4, 4, 7, 6, 1, 0, 0, 1])"
      ]
     },
     "execution_count": 105,
     "metadata": {},
     "output_type": "execute_result"
    }
   ],
   "source": [
    "model1.predict(X_train)"
   ]
  },
  {
   "cell_type": "code",
   "execution_count": 119,
   "metadata": {},
   "outputs": [],
   "source": [
    "func = mlp.Tanh()"
   ]
  },
  {
   "cell_type": "code",
   "execution_count": 114,
   "metadata": {},
   "outputs": [
    {
     "data": {
      "text/plain": [
       "array([0.19661193, 0.25      , 0.19661193])"
      ]
     },
     "execution_count": 114,
     "metadata": {},
     "output_type": "execute_result"
    }
   ],
   "source": [
    "func.derivative(np.array([-1,0,1]))"
   ]
  },
  {
   "cell_type": "code",
   "execution_count": 117,
   "metadata": {},
   "outputs": [],
   "source": [
    "a = np.array([-1,0,1])"
   ]
  },
  {
   "cell_type": "code",
   "execution_count": 122,
   "metadata": {},
   "outputs": [
    {
     "data": {
      "text/plain": [
       "array([0.41997434, 1.        , 0.41997434])"
      ]
     },
     "execution_count": 122,
     "metadata": {},
     "output_type": "execute_result"
    }
   ],
   "source": [
    "func.derivative(a)"
   ]
  },
  {
   "cell_type": "code",
   "execution_count": null,
   "metadata": {},
   "outputs": [],
   "source": []
  }
 ],
 "metadata": {
  "kernelspec": {
   "display_name": "Python 3",
   "language": "python",
   "name": "python3"
  },
  "language_info": {
   "codemirror_mode": {
    "name": "ipython",
    "version": 3
   },
   "file_extension": ".py",
   "mimetype": "text/x-python",
   "name": "python",
   "nbconvert_exporter": "python",
   "pygments_lexer": "ipython3",
   "version": "3.7.1"
  }
 },
 "nbformat": 4,
 "nbformat_minor": 2
}
