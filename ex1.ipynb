{
 "cells": [
  {
   "cell_type": "code",
   "execution_count": 550,
   "metadata": {},
   "outputs": [],
   "source": [
    "import numpy as np\n",
    "import pandas as pd\n",
    "import mlp\n",
    "import sklearn.model_selection\n",
    "import importlib\n",
    "import time\n",
    "import pickle\n",
    "import matplotlib.pyplot as plt\n",
    "import gc"
   ]
  },
  {
   "cell_type": "code",
   "execution_count": 261,
   "metadata": {},
   "outputs": [],
   "source": [
    "data = pd.read_csv(\"../../mnist_train.csv\")\n",
    "data2 = pd.read_csv(\"../../mnist_test.csv\")"
   ]
  },
  {
   "cell_type": "code",
   "execution_count": 589,
   "metadata": {},
   "outputs": [
    {
     "data": {
      "text/plain": [
       "<module 'mlp' from '/home/adrien/Documents/IFT6135/assigment1/practical/mlp.py'>"
      ]
     },
     "execution_count": 589,
     "metadata": {},
     "output_type": "execute_result"
    }
   ],
   "source": [
    "importlib.reload(mlp)"
   ]
  },
  {
   "cell_type": "code",
   "execution_count": 262,
   "metadata": {},
   "outputs": [
    {
     "data": {
      "text/plain": [
       "(10000, 785)"
      ]
     },
     "execution_count": 262,
     "metadata": {},
     "output_type": "execute_result"
    }
   ],
   "source": [
    "data.values.shape"
   ]
  },
  {
   "cell_type": "code",
   "execution_count": 264,
   "metadata": {},
   "outputs": [],
   "source": [
    "X = data.values[:,1:]/255\n",
    "Y = data.values[:,0]\n",
    "X_test = data2.values[:, 1:]/255\n",
    "Y_test = data2.values[:, 0]\n",
    "X_train, X_valid, Y_train, Y_valid = sklearn.model_selection.train_test_split( X, Y, test_size=0.2, random_state=42)"
   ]
  },
  {
   "cell_type": "code",
   "execution_count": 304,
   "metadata": {},
   "outputs": [
    {
     "data": {
      "text/plain": [
       "(12000, 784)"
      ]
     },
     "execution_count": 304,
     "metadata": {},
     "output_type": "execute_result"
    }
   ],
   "source": [
    "X_valid.shape"
   ]
  },
  {
   "cell_type": "code",
   "execution_count": 566,
   "metadata": {},
   "outputs": [
    {
     "name": "stdout",
     "output_type": "stream",
     "text": [
      "Input dimension 784\tLayer 1 dimension 500\tLayer 2 dimension 500\tOutput dimension 10\t Initilization method glorot\tActivation function sigmoid\n",
      "Total number of parameters : 648010\n"
     ]
    }
   ],
   "source": [
    "model1 = mlp.MLP_2L(784, 500, 500, 10, init=\"glorot\", activation=\"sigmoid\", l1=0, l2=0)  "
   ]
  },
  {
   "cell_type": "code",
   "execution_count": 567,
   "metadata": {},
   "outputs": [
    {
     "name": "stdout",
     "output_type": "stream",
     "text": [
      "Train on 1000 samples\tEvaluate on 12000\n",
      "\n",
      "Epoch 1/10\t\tTotal training time 0.0s\n",
      "\tSamples 1000/1000\tEpoch time 7.62s\tAccuracy 0.109\tLoss 2.269\tValid accuracy 0.098\t Valid loss 2.278\n",
      "Epoch 2/10\t\tTotal training time 7.6s\n",
      "\tSamples 1000/1000\tEpoch time 7.58s\tAccuracy 0.115\tLoss 2.228\tValid accuracy 0.103\t Valid loss 2.238\n",
      "Epoch 3/10\t\tTotal training time 15.2s\n",
      "\tSamples 1000/1000\tEpoch time 7.44s\tAccuracy 0.203\tLoss 2.186\tValid accuracy 0.183\t Valid loss 2.196\n",
      "Epoch 4/10\t\tTotal training time 22.6s\n",
      "\tSamples 1000/1000\tEpoch time 7.37s\tAccuracy 0.297\tLoss 2.139\tValid accuracy 0.293\t Valid loss 2.150\n",
      "Epoch 5/10\t\tTotal training time 30.0s\n",
      "\tSamples 1000/1000\tEpoch time 7.22s\tAccuracy 0.371\tLoss 2.088\tValid accuracy 0.364\t Valid loss 2.099\n",
      "Epoch 6/10\t\tTotal training time 37.2s\n",
      "\tSamples 1000/1000\tEpoch time 8.02s\tAccuracy 0.447\tLoss 2.030\tValid accuracy 0.445\t Valid loss 2.042\n",
      "Epoch 7/10\t\tTotal training time 45.3s\n",
      "\tSamples 1000/1000\tEpoch time 8.51s\tAccuracy 0.531\tLoss 1.965\tValid accuracy 0.518\t Valid loss 1.978\n",
      "Epoch 8/10\t\tTotal training time 53.8s\n",
      "\tSamples 1000/1000\tEpoch time 8.70s\tAccuracy 0.591\tLoss 1.892\tValid accuracy 0.571\t Valid loss 1.906\n",
      "Epoch 9/10\t\tTotal training time 62.5s\n",
      "\tSamples 1000/1000\tEpoch time 8.16s\tAccuracy 0.637\tLoss 1.810\tValid accuracy 0.611\t Valid loss 1.826\n",
      "Epoch 10/10\t\tTotal training time 70.6s\n",
      "\tSamples 1000/1000\tEpoch time 7.51s\tAccuracy 0.664\tLoss 1.722\tValid accuracy 0.638\t Valid loss 1.739\n",
      "\n",
      "Total training time 78.15s\n"
     ]
    }
   ],
   "source": [
    "dic = model1.fit(X_train[:1000,:], Y_train[:1000], 10, 10, 0.01, validation_data=(X_valid, Y_valid), epsilon=0.1 )   "
   ]
  },
  {
   "cell_type": "code",
   "execution_count": 595,
   "metadata": {},
   "outputs": [
    {
     "name": "stdout",
     "output_type": "stream",
     "text": [
      "Train on 1000 samples\tEvaluate on 12000\n",
      " samples\n",
      "Epoch 1/2\t\tTotal training time 0.0s\n",
      "\tSamples 1000/1000\tEpoch time 46.89s\tAccuracy 0.907\tLoss 0.363\tValid accuracy 0.857\t Valid loss 0.492\n",
      "Epoch 2/2\t\tTotal training time 46.9s\n",
      "\tSamples 1000/1000\tEpoch time 45.63s\tAccuracy 0.907\tLoss 0.356\tValid accuracy 0.858\t Valid loss 0.487\n",
      "\n",
      "Total training time 92.52s\n"
     ]
    }
   ],
   "source": [
    "dic = model1.fit(X_train[:1000,:], Y_train[:1000], 2, 1, 0.001, validation_data=(X_valid, Y_valid), epsilon=0.001, previous=dic )   "
   ]
  },
  {
   "cell_type": "code",
   "execution_count": 593,
   "metadata": {},
   "outputs": [
    {
     "data": {
      "text/plain": [
       "[<matplotlib.lines.Line2D at 0x7fa9dc948400>]"
      ]
     },
     "execution_count": 593,
     "metadata": {},
     "output_type": "execute_result"
    },
    {
     "data": {
      "image/png": "[encoded data removed]",
      "text/plain": [
       "<Figure size 432x288 with 1 Axes>"
      ]
     },
     "metadata": {
      "needs_background": "light"
     },
     "output_type": "display_data"
    }
   ],
   "source": [
    "plt.plot(dic[\"epoch\"],dic[\"train_acc\"])\n",
    "plt.plot(dic[\"epoch\"],dic[\"valid_acc\"])"
   ]
  },
  {
   "cell_type": "code",
   "execution_count": 592,
   "metadata": {
    "scrolled": true
   },
   "outputs": [
    {
     "data": {
      "text/plain": [
       "[<matplotlib.lines.Line2D at 0x7fa9db6fb7b8>]"
      ]
     },
     "execution_count": 592,
     "metadata": {},
     "output_type": "execute_result"
    },
    {
     "data": {
      "image/png": "[encoded data removed]",
      "text/plain": [
       "<Figure size 432x288 with 1 Axes>"
      ]
     },
     "metadata": {
      "needs_background": "light"
     },
     "output_type": "display_data"
    }
   ],
   "source": [
    "plt.plot(dic[\"epoch\"],dic[\"train_loss\"])\n",
    "plt.plot(dic[\"epoch\"],dic[\"valid_loss\"])"
   ]
  },
  {
   "cell_type": "code",
   "execution_count": 585,
   "metadata": {},
   "outputs": [],
   "source": [
    "model1.save(\"models/model2.mod\")"
   ]
  },
  {
   "cell_type": "code",
   "execution_count": 590,
   "metadata": {},
   "outputs": [
    {
     "name": "stdout",
     "output_type": "stream",
     "text": [
      "Input dimension 784\tLayer 1 dimension 500\tLayer 2 dimension 500\tOutput dimension 10\t Initilization method load\tActivation function sigmoid\n",
      "Total number of parameters : 648010\n"
     ]
    }
   ],
   "source": [
    "model1 = mlp.MLP_2L.load_model(\"models/model2.mod\")"
   ]
  },
  {
   "cell_type": "code",
   "execution_count": 536,
   "metadata": {},
   "outputs": [
    {
     "name": "stdout",
     "output_type": "stream",
     "text": [
      "Train on 1000 samples\tEvaluate on 12000\n",
      "\n",
      "Epoch 1/1\t\tTotal training time 0.0s\n",
      "\tSamples 1000/1000\tEpoch time 62.32s\tAccuracy 0.921\tLoss 2.922\tValid accuracy 0.905\t Valid loss 2.965\n",
      "\n",
      "Total training time 66.19s\n"
     ]
    }
   ],
   "source": [
    "model1.fit(X_train[:1000,:], Y_train[:1000], 1, 1, 0.001, validation_data=(X_valid, Y_valid) )"
   ]
  },
  {
   "cell_type": "code",
   "execution_count": 534,
   "metadata": {},
   "outputs": [],
   "source": [
    "model1.l1 = 0.0001"
   ]
  },
  {
   "cell_type": "code",
   "execution_count": null,
   "metadata": {},
   "outputs": [],
   "source": []
  }
 ],
 "metadata": {
  "kernelspec": {
   "display_name": "Python 3",
   "language": "python",
   "name": "python3"
  },
  "language_info": {
   "codemirror_mode": {
    "name": "ipython",
    "version": 3
   },
   "file_extension": ".py",
   "mimetype": "text/x-python",
   "name": "python",
   "nbconvert_exporter": "python",
   "pygments_lexer": "ipython3",
   "version": "3.7.1"
  }
 },
 "nbformat": 4,
 "nbformat_minor": 2
}
